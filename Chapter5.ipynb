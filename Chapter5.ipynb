{
 "cells": [
  {
   "cell_type": "code",
   "execution_count": 1,
   "metadata": {},
   "outputs": [],
   "source": [
    "# Chapter05-01\n",
    "# 일급 함수(일급 객체)\n",
    "# 파이썬 함수 특징\n",
    "# 1. 런타임 초기화\n",
    "# 2. 변수 할당 가능\n",
    "# 3. 함수 인수 전달 가능\n",
    "# 4. 함수 결과 반환 가능(return)"
   ]
  },
  {
   "cell_type": "code",
   "execution_count": 6,
   "metadata": {},
   "outputs": [
    {
     "name": "stdout",
     "output_type": "stream",
     "text": [
      "120\n",
      " Factorial Function -> n : int \n",
      "<class 'function'> <class 'type'>\n",
      "{'__annotations__', '__get__', '__defaults__', '__name__', '__code__', '__globals__', '__qualname__', '__kwdefaults__', '__closure__', '__call__'}\n",
      "factorial\n",
      "<code object factorial at 0x7f960604d4b0, file \"<ipython-input-6-cf02d52cbf22>\", line 2>\n"
     ]
    }
   ],
   "source": [
    "# 함수 객체\n",
    "def factorial(n):\n",
    "    ''' Factorial Function -> n : int '''\n",
    "    if n == 1: # n < 2\n",
    "        return 1\n",
    "    return n * factorial(n-1)\n",
    "\n",
    "class A:\n",
    "    pass\n",
    "    \n",
    "\n",
    "print(factorial(5))\n",
    "print(factorial.__doc__)\n",
    "print(type(factorial), type(A))\n",
    "print(set(sorted(dir(factorial))) - set(sorted(dir(A)))) \n",
    "print(factorial.__name__)\n",
    "print(factorial.__code__)"
   ]
  },
  {
   "cell_type": "code",
   "execution_count": 8,
   "metadata": {},
   "outputs": [
    {
     "name": "stdout",
     "output_type": "stream",
     "text": [
      "<function factorial at 0x7f960604d950>\n",
      "3628800\n",
      "[1, 2, 6, 24, 120, 720, 5040, 40320, 362880, 3628800]\n"
     ]
    }
   ],
   "source": [
    "# 변수 할당\n",
    "var_func = factorial\n",
    "print(var_func)\n",
    "print(var_func(10))\n",
    "print(list(map(var_func, range(1, 11))))"
   ]
  },
  {
   "cell_type": "code",
   "execution_count": 10,
   "metadata": {},
   "outputs": [
    {
     "name": "stdout",
     "output_type": "stream",
     "text": [
      "[1, 6, 120]\n",
      "[1, 6, 120]\n"
     ]
    }
   ],
   "source": [
    "# 함수 인수 전달 및 함수로 결과 반환 -> 고위 함수(Higher-order function)\n",
    "# map, filter, reduce\n",
    "print(list(map(var_func, filter(lambda x: x % 2, range(1, 6)))))\n",
    "print([var_func(i) for i in range(1, 6) if i % 2])"
   ]
  },
  {
   "cell_type": "code",
   "execution_count": 13,
   "metadata": {},
   "outputs": [
    {
     "name": "stdout",
     "output_type": "stream",
     "text": [
      "55\n",
      "55\n"
     ]
    }
   ],
   "source": [
    "# reduce \n",
    "from functools import reduce\n",
    "from operator import add\n",
    "print(reduce(add, (range(1, 11))))\n",
    "print(sum(range(1, 11)))"
   ]
  },
  {
   "cell_type": "code",
   "execution_count": 14,
   "metadata": {},
   "outputs": [
    {
     "name": "stdout",
     "output_type": "stream",
     "text": [
      "55\n"
     ]
    }
   ],
   "source": [
    "# 익명함수(lambda)\n",
    "# 가급적 주석 작성\n",
    "# 가급적 함수 작성\n",
    "# 일반 함수 형태로 리팩토링 권장\n",
    "print(reduce(lambda x, t: x + t, range(1, 11)))"
   ]
  },
  {
   "cell_type": "code",
   "execution_count": 19,
   "metadata": {},
   "outputs": [
    {
     "name": "stdout",
     "output_type": "stream",
     "text": [
      "True True False\n"
     ]
    }
   ],
   "source": [
    "# Callable: 호출 연산자 -> 메소드 형태로 호출 가능한지 확인\n",
    "# 호출 가능 확인\n",
    "print(callable(str), callable(A), callable(3.14))\n",
    "# str('a'), 3.14(334)"
   ]
  },
  {
   "cell_type": "code",
   "execution_count": 27,
   "metadata": {},
   "outputs": [
    {
     "name": "stdout",
     "output_type": "stream",
     "text": [
      "100\n",
      "50\n",
      "30\n",
      "[5, 10, 15, 20, 25, 30, 35, 40, 45]\n",
      "[5, 10, 15, 20, 25, 30, 35, 40, 45]\n"
     ]
    }
   ],
   "source": [
    "# partial 사용법: 인수 고정 -> 콜백 함수 사용\n",
    "from operator import mul\n",
    "from functools import partial\n",
    "print(mul(10, 10))\n",
    "\n",
    "# 인수 고정\n",
    "five = partial(mul, 5) # 5 * ?\n",
    "\n",
    "# 고정 추가\n",
    "six = partial(five, 6)\n",
    "print(five(10))\n",
    "print(six())\n",
    "print([five(i) for i in range(1, 10)])\n",
    "print(list(map(five, range(1, 10))))"
   ]
  },
  {
   "cell_type": "code",
   "execution_count": 36,
   "metadata": {},
   "outputs": [
    {
     "name": "stdout",
     "output_type": "stream",
     "text": [
      "10\n",
      "20\n",
      ">>> 30\n",
      "10\n",
      "30\n",
      ">>> 40\n"
     ]
    }
   ],
   "source": [
    "# Chapter05-02\n",
    "# 클로저 기초\n",
    "\n",
    "# 파이썬 변수 범위(scope)\n",
    "\n",
    "# Ex1\n",
    "def func_v1(a):\n",
    "    print(a)\n",
    "    print(b)\n",
    "    \n",
    "# func_v1(10)\n",
    "# Ex2\n",
    "b = 20\n",
    "def func_v2(a):\n",
    "    print(a)\n",
    "    print(b)\n",
    "func_v2(10)\n",
    "\n",
    "# Ex3\n",
    "c = 30\n",
    "def func_v3(a):\n",
    "    global c\n",
    "    print(a)\n",
    "    print(c)\n",
    "    c = 40\n",
    "print('>>>', c)\n",
    "func_v3(10)\n",
    "print('>>>', c)"
   ]
  },
  {
   "cell_type": "code",
   "execution_count": 38,
   "metadata": {},
   "outputs": [
    {
     "name": "stdout",
     "output_type": "stream",
     "text": [
      "200\n",
      "1100\n",
      "1275\n",
      "3775\n"
     ]
    }
   ],
   "source": [
    "# Closure(클로저) 사용 이유\n",
    "# 서버 프로그래밍 -> 동시성(Concurrency)제어 -> 메모리 공간에 여러 자원이 접근 -> 교착상태(Dead Lock)\n",
    "# 메모리를 공유하지 않고 메시지 전달로 처리하기 위한 -> Erlang\n",
    "# 클로저는 공유하되 변경되지 않는(Immutable, Read Only) 적극적으로 사용 -> 함수형 프로그래밍\n",
    "# 클로저는 불변자료구조 및 atom, STM -> 멀티스레드(Coroutine) 프로그래밍에 강점\n",
    "\n",
    "a = 100\n",
    "print(a + 100)\n",
    "print(a + 1000)\n",
    "\n",
    "# 결과 누적 (함수 사용)\n",
    "print(sum(range(1, 51)))\n",
    "print(sum(range(51, 101)))\n"
   ]
  },
  {
   "cell_type": "code",
   "execution_count": 39,
   "metadata": {},
   "outputs": [],
   "source": [
    "# Use class\n",
    "class Averager():\n",
    "    def __init__(self):\n",
    "        self._series = []\n",
    "    def __call__(self, v):\n",
    "        self._series.append(v)\n",
    "        print('inner >> {} / {}'.format(self._series, len(self._series)))\n",
    "        return sum(self._series) / len(self._series)"
   ]
  },
  {
   "cell_type": "code",
   "execution_count": 41,
   "metadata": {},
   "outputs": [
    {
     "name": "stdout",
     "output_type": "stream",
     "text": [
      "inner >> [10] / 1\n",
      "10.0\n",
      "inner >> [10, 30] / 2\n",
      "20.0\n",
      "inner >> [10, 30, 50] / 3\n",
      "30.0\n"
     ]
    }
   ],
   "source": [
    "# 인스턴스 생성\n",
    "averager_cls = Averager()\n",
    "\n",
    "# 누적\n",
    "print(averager_cls(10))\n",
    "print(averager_cls(30))\n",
    "print(averager_cls(50))"
   ]
  },
  {
   "cell_type": "code",
   "execution_count": 42,
   "metadata": {},
   "outputs": [
    {
     "name": "stdout",
     "output_type": "stream",
     "text": [
      "inner >>> [10] / 1\n",
      "10.0\n",
      "inner >>> [10, 30] / 2\n",
      "20.0\n",
      "inner >>> [10, 30, 50] / 3\n",
      "30.0\n"
     ]
    }
   ],
   "source": [
    "# Chapter05-03\n",
    "# 일급 함수 (일급 객체)\n",
    "# 클로저 기초\n",
    "# 외부에서 호출된 함수의 변수값, 상태(레퍼런스) 복사 후 저장 -> 후에 접근(엑세스) 가능\n",
    "\n",
    "# Closure 사용\n",
    "def closure_ex1():\n",
    "    # free variable\n",
    "    # 클로저 영역\n",
    "    series = []\n",
    "    def averager(v):\n",
    "        series.append(v)\n",
    "        print('inner >>> {} / {}'.format(series, len(series)))\n",
    "        return sum(series) / len(series)\n",
    "    return averager\n",
    "\n",
    "avg_closure1 = closure_ex1()\n",
    "print(avg_closure1(10))\n",
    "print(avg_closure1(30))\n",
    "print(avg_closure1(50))\n"
   ]
  },
  {
   "cell_type": "code",
   "execution_count": 48,
   "metadata": {},
   "outputs": [
    {
     "name": "stdout",
     "output_type": "stream",
     "text": [
      "['__annotations__', '__call__', '__class__', '__closure__', '__code__', '__defaults__', '__delattr__', '__dict__', '__dir__', '__doc__', '__eq__', '__format__', '__ge__', '__get__', '__getattribute__', '__globals__', '__gt__', '__hash__', '__init__', '__init_subclass__', '__kwdefaults__', '__le__', '__lt__', '__module__', '__name__', '__ne__', '__new__', '__qualname__', '__reduce__', '__reduce_ex__', '__repr__', '__setattr__', '__sizeof__', '__str__', '__subclasshook__']\n",
      "\n",
      "['__class__', '__delattr__', '__dir__', '__doc__', '__eq__', '__format__', '__ge__', '__getattribute__', '__gt__', '__hash__', '__init__', '__init_subclass__', '__le__', '__lt__', '__ne__', '__new__', '__reduce__', '__reduce_ex__', '__repr__', '__setattr__', '__sizeof__', '__str__', '__subclasshook__', 'co_argcount', 'co_cellvars', 'co_code', 'co_consts', 'co_filename', 'co_firstlineno', 'co_flags', 'co_freevars', 'co_kwonlyargcount', 'co_lnotab', 'co_name', 'co_names', 'co_nlocals', 'co_stacksize', 'co_varnames']\n",
      "('series',)\n",
      "[10, 30, 50]\n"
     ]
    }
   ],
   "source": [
    "# function inspection\n",
    "print(dir(avg_closure1))\n",
    "print()\n",
    "print(dir(avg_closure1.__code__))\n",
    "print(avg_closure1.__code__.co_freevars)\n",
    "print(avg_closure1.__closure__[0].cell_contents)"
   ]
  },
  {
   "cell_type": "code",
   "execution_count": 56,
   "metadata": {},
   "outputs": [],
   "source": [
    "# 잘못된 클로저 사용\n",
    "def closure_ex2():\n",
    "    # Free variable\n",
    "    cnt = 0\n",
    "    total = 0\n",
    "    def averager(v):\n",
    "        cnt += 1\n",
    "        total += v\n",
    "        return total / cnt\n",
    "    return averager\n",
    "avg_closure2 = closure_ex2()\n",
    "# print(avg_closure2(10))"
   ]
  },
  {
   "cell_type": "code",
   "execution_count": 57,
   "metadata": {},
   "outputs": [
    {
     "name": "stdout",
     "output_type": "stream",
     "text": [
      "15.0\n",
      "25.0\n",
      "30.0\n"
     ]
    }
   ],
   "source": [
    "# 잘못된 클로저 사용\n",
    "def closure_ex3():\n",
    "    # Free variable\n",
    "    cnt = 0\n",
    "    total = 0\n",
    "    def averager(v):\n",
    "        nonlocal cnt, total\n",
    "        cnt += 1\n",
    "        total += v\n",
    "        return total / cnt\n",
    "    return averager\n",
    "avg_closure3 = closure_ex3()\n",
    "print(avg_closure3(15))\n",
    "print(avg_closure3(35))\n",
    "print(avg_closure3(40))"
   ]
  },
  {
   "cell_type": "code",
   "execution_count": 61,
   "metadata": {},
   "outputs": [],
   "source": [
    "# Chapter 05-04\n",
    "# 일급 함수(일급 객체)\n",
    "# 클로저 기초\n",
    "# 데코레이터(Decorator)\n",
    "\n",
    "# 장점\n",
    "# 1. 중복 제거, 코드 간결, 공통 함수 작성\n",
    "# 2. 로깅, 프레임워크, 유효성 체크 -> 공통 기능\n",
    "# 3. 조합해서 사용 용이\n",
    "\n",
    "# 단점\n",
    "# 1. 가독성 감소?\n",
    "# 2. 특정 기능에 한정된 함수는 -> 단일 함수로 작성하는 것이 유리\n",
    "# 3. 디버깅 불편\n",
    "\n",
    "# 데코레이터 실습\n",
    "import time\n",
    "def perf_clock(func):\n",
    "    def perf_clocked(*args):\n",
    "        # 함수 시작 시간\n",
    "        st = time.perf_counter()\n",
    "        # 함수 실행\n",
    "        result = func(*args)\n",
    "        # 함수 종료 시간\n",
    "        et = time.perf_counter() - st\n",
    "        # 실행 함수명\n",
    "        name = func.__name__\n",
    "        # 함수 매개변수\n",
    "        arg_str = ', '.join(repr(arg) for arg in args)\n",
    "        # 결과 출력\n",
    "        print('[%0.5fs] %s(%s) -> %r' % (et, name, arg_str, result))\n",
    "        return result\n",
    "    return perf_clocked\n",
    "\n",
    "@perf_clock\n",
    "def time_func(seconds):\n",
    "    time.sleep(seconds)\n",
    "    \n",
    "@perf_clock\n",
    "def sum_func(*numbers):\n",
    "    return sum(numbers)"
   ]
  },
  {
   "cell_type": "code",
   "execution_count": 60,
   "metadata": {},
   "outputs": [
    {
     "name": "stdout",
     "output_type": "stream",
     "text": [
      "<function perf_clock.<locals>.perf_clocked at 0x7f9607e75b00> ('func',)\n",
      "<function perf_clock.<locals>.perf_clocked at 0x7f9607e75cb0> ('func',)\n",
      "---------------------------------------- Called None Decorator -> time_func\n",
      "\n",
      "[1.50359s] time_func(1.5) -> None\n",
      "---------------------------------------- Called None Decorator -> sum_func\n",
      "\n",
      "[0.00000s] sum_func(100, 200, 300, 400, 500) -> 1500\n"
     ]
    },
    {
     "data": {
      "text/plain": [
       "1500"
      ]
     },
     "execution_count": 60,
     "metadata": {},
     "output_type": "execute_result"
    }
   ],
   "source": [
    "# 데코레이터 미사용\n",
    "none_deco1 = perf_clock(time_func)\n",
    "none_deco2 = perf_clock(sum_func)\n",
    "print(none_deco1, none_deco1.__code__.co_freevars)\n",
    "print(none_deco2, none_deco2.__code__.co_freevars)\n",
    "\n",
    "print('-' * 40, 'Called None Decorator -> time_func')\n",
    "print()\n",
    "none_deco1(1.5)\n",
    "print('-' * 40, 'Called None Decorator -> sum_func')\n",
    "print()\n",
    "none_deco2(100, 200, 300, 400, 500)"
   ]
  },
  {
   "cell_type": "code",
   "execution_count": 62,
   "metadata": {},
   "outputs": [
    {
     "name": "stdout",
     "output_type": "stream",
     "text": [
      "---------------------------------------- Called Decorator -> time_func\n",
      "\n",
      "[1.50235s] time_func(1.5) -> None\n",
      "---------------------------------------- Called Decorator -> time_func\n",
      "\n",
      "[0.00000s] sum_func(100, 200, 300, 400, 500) -> 1500\n"
     ]
    },
    {
     "data": {
      "text/plain": [
       "1500"
      ]
     },
     "execution_count": 62,
     "metadata": {},
     "output_type": "execute_result"
    }
   ],
   "source": [
    "# 데코레이터 사용\n",
    "print('-' * 40, 'Called Decorator -> time_func')\n",
    "print()\n",
    "time_func(1.5)\n",
    "print('-' * 40, 'Called Decorator -> time_func')\n",
    "print()\n",
    "sum_func(100, 200, 300, 400, 500)"
   ]
  },
  {
   "cell_type": "code",
   "execution_count": null,
   "metadata": {},
   "outputs": [],
   "source": []
  }
 ],
 "metadata": {
  "kernelspec": {
   "display_name": "Python 3",
   "language": "python",
   "name": "python3"
  },
  "language_info": {
   "codemirror_mode": {
    "name": "ipython",
    "version": 3
   },
   "file_extension": ".py",
   "mimetype": "text/x-python",
   "name": "python",
   "nbconvert_exporter": "python",
   "pygments_lexer": "ipython3",
   "version": "3.7.6"
  }
 },
 "nbformat": 4,
 "nbformat_minor": 4
}
