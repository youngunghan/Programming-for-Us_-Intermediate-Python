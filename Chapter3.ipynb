{
 "cells": [
  {
   "cell_type": "code",
   "execution_count": 2,
   "metadata": {},
   "outputs": [],
   "source": [
    "# Chapter03-02\n",
    "# Special Method(Magic Method)\n",
    "# 파이썬의 핵심 -> 시퀀스(Sequence), 반복(Iterator), 함수(Functions), Class(클래스)\n",
    "# 클래스 안에 정의할 수 있는 특별한(Built-in) 메소드"
   ]
  },
  {
   "cell_type": "code",
   "execution_count": 3,
   "metadata": {},
   "outputs": [
    {
     "name": "stdout",
     "output_type": "stream",
     "text": [
      "<class 'int'>\n",
      "<class 'float'>\n"
     ]
    }
   ],
   "source": [
    "# 기본형\n",
    "print(int)\n",
    "print(float)"
   ]
  },
  {
   "cell_type": "code",
   "execution_count": 4,
   "metadata": {},
   "outputs": [
    {
     "name": "stdout",
     "output_type": "stream",
     "text": [
      "['__abs__', '__add__', '__and__', '__bool__', '__ceil__', '__class__', '__delattr__', '__dir__', '__divmod__', '__doc__', '__eq__', '__float__', '__floor__', '__floordiv__', '__format__', '__ge__', '__getattribute__', '__getnewargs__', '__gt__', '__hash__', '__index__', '__init__', '__init_subclass__', '__int__', '__invert__', '__le__', '__lshift__', '__lt__', '__mod__', '__mul__', '__ne__', '__neg__', '__new__', '__or__', '__pos__', '__pow__', '__radd__', '__rand__', '__rdivmod__', '__reduce__', '__reduce_ex__', '__repr__', '__rfloordiv__', '__rlshift__', '__rmod__', '__rmul__', '__ror__', '__round__', '__rpow__', '__rrshift__', '__rshift__', '__rsub__', '__rtruediv__', '__rxor__', '__setattr__', '__sizeof__', '__str__', '__sub__', '__subclasshook__', '__truediv__', '__trunc__', '__xor__', 'bit_length', 'conjugate', 'denominator', 'from_bytes', 'imag', 'numerator', 'real', 'to_bytes']\n",
      "['__abs__', '__add__', '__bool__', '__class__', '__delattr__', '__dir__', '__divmod__', '__doc__', '__eq__', '__float__', '__floordiv__', '__format__', '__ge__', '__getattribute__', '__getformat__', '__getnewargs__', '__gt__', '__hash__', '__init__', '__init_subclass__', '__int__', '__le__', '__lt__', '__mod__', '__mul__', '__ne__', '__neg__', '__new__', '__pos__', '__pow__', '__radd__', '__rdivmod__', '__reduce__', '__reduce_ex__', '__repr__', '__rfloordiv__', '__rmod__', '__rmul__', '__round__', '__rpow__', '__rsub__', '__rtruediv__', '__set_format__', '__setattr__', '__sizeof__', '__str__', '__sub__', '__subclasshook__', '__truediv__', '__trunc__', 'as_integer_ratio', 'conjugate', 'fromhex', 'hex', 'imag', 'is_integer', 'real']\n"
     ]
    }
   ],
   "source": [
    "# 모든 속성 및 메소드 출력\n",
    "print(dir(int))\n",
    "print(dir(float))"
   ]
  },
  {
   "cell_type": "code",
   "execution_count": 5,
   "metadata": {},
   "outputs": [
    {
     "name": "stdout",
     "output_type": "stream",
     "text": [
      "110\n",
      "110\n",
      "True True\n",
      "1000 1000\n"
     ]
    }
   ],
   "source": [
    "n = 10\n",
    "print(n + 100)\n",
    "print(n.__add__(100))\n",
    "#print(n.__doc__)\n",
    "print(n.__bool__(), bool(n))\n",
    "print(n * 100, n.__mul__(100))"
   ]
  },
  {
   "cell_type": "code",
   "execution_count": null,
   "metadata": {},
   "outputs": [],
   "source": []
  },
  {
   "cell_type": "code",
   "execution_count": 6,
   "metadata": {},
   "outputs": [],
   "source": [
    "# 클래스 예제1\n",
    "class Fruit:\n",
    "    def __init__(self, name, price):\n",
    "        self._name = name\n",
    "        self._price = price\n",
    "        \n",
    "    def __str__(self):\n",
    "        return 'Fruit Class Info: {}, {}'.format(self._name, self._price)\n",
    "    \n",
    "    def __add__(self, x):\n",
    "        print('Called >> __add__')\n",
    "        return (self._price + x._price)\n",
    "    \n",
    "    def __sub__(self, x):\n",
    "        print('Called >> __sub__')\n",
    "        return self._price - x. _price\n",
    "    \n",
    "    def __le__(self, x):\n",
    "        print('Called >> __le__')\n",
    "        if self._price <= x._price:\n",
    "            return True\n",
    "        else:\n",
    "            return False\n",
    "        \n",
    "    def __ge__(self, x):\n",
    "        print('Called >> __ge__')\n",
    "        if self._price >= x._price:\n",
    "            return True\n",
    "        else:\n",
    "            return False\n",
    "        "
   ]
  },
  {
   "cell_type": "code",
   "execution_count": 7,
   "metadata": {},
   "outputs": [
    {
     "name": "stdout",
     "output_type": "stream",
     "text": [
      "Called >> __add__\n",
      "10500\n"
     ]
    }
   ],
   "source": [
    "# 인스턴스 생성\n",
    "s1 = Fruit('Orange', 7500)\n",
    "s2 = Fruit('Banana', 3000)\n",
    "\n",
    "print(s1 + s2)\n",
    "\n",
    "# 일반적인 계산\n",
    "#print(s1._price + s2._price)"
   ]
  },
  {
   "cell_type": "code",
   "execution_count": 8,
   "metadata": {},
   "outputs": [
    {
     "name": "stdout",
     "output_type": "stream",
     "text": [
      "Called >> __ge__\n",
      "True\n",
      "Called >> __le__\n",
      "False\n",
      "Called >> __sub__\n",
      "4500\n",
      "Called >> __sub__\n",
      "-4500\n",
      "Fruit Class Info: Orange, 7500\n",
      "Fruit Class Info: Banana, 3000\n"
     ]
    }
   ],
   "source": [
    "# 매직메소드\n",
    "print(s1 >= s2)\n",
    "print(s1 <= s2)\n",
    "print(s1 - s2)\n",
    "print(s2 - s1)\n",
    "print(s1)\n",
    "print(s2)"
   ]
  },
  {
   "cell_type": "code",
   "execution_count": null,
   "metadata": {},
   "outputs": [],
   "source": []
  },
  {
   "cell_type": "code",
   "execution_count": 17,
   "metadata": {},
   "outputs": [],
   "source": [
    "# 클래스 예제2\n",
    "# 벡터(x, y) (5, 2)\n",
    "# (5, 2) + (4, 3) = (9, 5)\n",
    "# (10, 3) * 5 = (50, 15)\n",
    "# Max((5, 10)) = 10\n",
    "\n",
    "class Vector(object):\n",
    "    def __init__(self, *args):\n",
    "        '''\n",
    "        Create a vector, example: v = Vector(5, 10)\n",
    "        '''\n",
    "        if len(args) == 0:\n",
    "            self._x, self._y = 0, 0\n",
    "        else:\n",
    "            self._x, self._y = args\n",
    "            \n",
    "    def __repr__(self):\n",
    "        '''Return the vector informations.'''\n",
    "        return 'Vector(%r, %r)' % (self._x, self._y)\n",
    "    \n",
    "    def __add__(self, other):\n",
    "        '''Return the vector addition of self and other'''\n",
    "        return Vector(self._x + other._x, self._y + other._y)\n",
    "    \n",
    "    def __mul__(self, y):\n",
    "        return Vector(self._x * y, self._y * y)\n",
    "    \n",
    "    def __bool__(self):\n",
    "        '''좌표상에서 0,0에 있는지 체크하는 함수'''\n",
    "        return bool(max(self._x, self._y)) \n",
    "        \n",
    "#print(Vector.__init__.__doc__)"
   ]
  },
  {
   "cell_type": "code",
   "execution_count": 18,
   "metadata": {},
   "outputs": [],
   "source": [
    "# Vector 인스턴스 생성\n",
    "v1 = Vector(5, 7)\n",
    "v2 = Vector(23, 35)\n",
    "v3 = Vector()"
   ]
  },
  {
   "cell_type": "code",
   "execution_count": 24,
   "metadata": {},
   "outputs": [
    {
     "name": "stdout",
     "output_type": "stream",
     "text": [
      "\n",
      "        Create a vector, example: v = Vector(5, 10)\n",
      "        \n",
      "Return the vector informations.\n",
      "Return the vector addition of self and other\n",
      "Vector(5, 7) Vector(23, 35) Vector(0, 0)\n",
      "Vector(28, 42)\n",
      "Vector(15, 21)\n",
      "Vector(230, 350)\n",
      "True True\n",
      "False\n"
     ]
    }
   ],
   "source": [
    "# 매직 메소드 출력\n",
    "print(Vector.__init__.__doc__)\n",
    "print(Vector.__repr__.__doc__)\n",
    "print(Vector.__add__.__doc__)\n",
    "print(v1, v2, v3)\n",
    "print(v1 + v2)\n",
    "print(v1 * 3)\n",
    "print(v2 * 10)\n",
    "print(bool(v1), bool(v2))\n",
    "print(bool(v3))"
   ]
  },
  {
   "cell_type": "code",
   "execution_count": 25,
   "metadata": {},
   "outputs": [],
   "source": [
    "# Chapter03-03\n",
    "# 객체 -> 파이썬의 데이터를 추상화\n",
    "# 모든 객체 -> id, type -> value"
   ]
  },
  {
   "cell_type": "code",
   "execution_count": 27,
   "metadata": {},
   "outputs": [
    {
     "name": "stdout",
     "output_type": "stream",
     "text": [
      "3.8078865529319543\n"
     ]
    }
   ],
   "source": [
    "# 일반적인 튜플\n",
    "pt1 = (1.0, 5.0)\n",
    "pt2 = (2.5, 1.5)\n",
    "\n",
    "from math import sqrt\n",
    "l_leng1 = sqrt((pt1[0] - pt2[0]) ** 2 + (pt1[1] - pt2[1]) ** 2)\n",
    "print(l_leng1)"
   ]
  },
  {
   "cell_type": "code",
   "execution_count": 38,
   "metadata": {},
   "outputs": [
    {
     "name": "stdout",
     "output_type": "stream",
     "text": [
      "1.0 1.0\n",
      "Point(x=2.5, y=1.5)\n",
      "3.8078865529319543\n"
     ]
    }
   ],
   "source": [
    "# 네임드 튜플 사용\n",
    "from collections import namedtuple\n",
    "# 네임드 튜플 선언\n",
    "Point = namedtuple('Point', 'x y')\n",
    "pt3 = Point(1.0, 5.0)\n",
    "pt4 = Point(2.5, 1.5)\n",
    "\n",
    "print(pt3.x, pt3[0])\n",
    "print(pt4)\n",
    "\n",
    "l_leng2 = sqrt((pt3.x - pt4.x) ** 2 + (pt3.y - pt4.y) ** 2)\n",
    "print(l_leng2)"
   ]
  },
  {
   "cell_type": "code",
   "execution_count": 41,
   "metadata": {},
   "outputs": [
    {
     "name": "stdout",
     "output_type": "stream",
     "text": [
      "<class '__main__.Point'> <class '__main__.Point'> <class '__main__.Point'> <class '__main__.Point'>\n",
      "\n",
      "Point(x=10, y=35)\n",
      "Point(x=20, y=40)\n",
      "Point(x=45, y=20)\n",
      "Point(x=10, y=20, _2=30, _3=40)\n"
     ]
    }
   ],
   "source": [
    "# 네임드 튜플 선언 방법\n",
    "Point1 = namedtuple('Point', ['x', 'y'])\n",
    "Point2 = namedtuple('Point', 'x, y')\n",
    "Point3 = namedtuple('Point', 'x y')\n",
    "Point4 = namedtuple('Point', 'x y x class', rename=True) # 예약어와 이름이 중복되는 경우 rename=True를 사용한다. # Default=False\n",
    "\n",
    "# 출력\n",
    "print(Point1, Point2, Point3, Point4)\n",
    "p1 = Point1(x=10, y=35)\n",
    "p2 = Point2(20, 40)\n",
    "p3 = Point3(45, y=20)\n",
    "p4 = Point4(10, 20, 30, 40)\n",
    "print()\n",
    "\n",
    "print(p1)\n",
    "print(p2)\n",
    "print(p3)\n",
    "# rename test\n",
    "print(p4)"
   ]
  },
  {
   "cell_type": "code",
   "execution_count": 43,
   "metadata": {},
   "outputs": [
    {
     "name": "stdout",
     "output_type": "stream",
     "text": [
      "Point(x=75, y=55)\n"
     ]
    }
   ],
   "source": [
    "# Dict to Unpacking\n",
    "temp_dict = {'x': 75, 'y': 55}\n",
    "p5 = Point3(**temp_dict)\n",
    "print(p5)"
   ]
  },
  {
   "cell_type": "code",
   "execution_count": 47,
   "metadata": {},
   "outputs": [
    {
     "name": "stdout",
     "output_type": "stream",
     "text": [
      "50\n",
      "50\n",
      "20 40\n"
     ]
    }
   ],
   "source": [
    "# 사용\n",
    "print(p1[0] + p2[1])\n",
    "print(p1.x + p2.y)\n",
    "\n",
    "# Unpacking\n",
    "x, y = p2\n",
    "print(x, y)"
   ]
  },
  {
   "cell_type": "code",
   "execution_count": 51,
   "metadata": {},
   "outputs": [
    {
     "name": "stdout",
     "output_type": "stream",
     "text": [
      "Point(x=52, y=38)\n",
      "('x', 'y') ('x', 'y') ('x', 'y')\n",
      "OrderedDict([('x', 10), ('y', 35)])\n",
      "OrderedDict([('x', 52), ('y', 38)])\n"
     ]
    }
   ],
   "source": [
    "# namedtuple method\n",
    "temp = [52, 38]\n",
    "\n",
    "# _make(): 새로운 객체 생성\n",
    "p4 = Point1._make(temp)\n",
    "print(p4)\n",
    "\n",
    "# _fields: 필드 네임 확인\n",
    "print(p1._fields, p2._fields, p3._fields)\n",
    "\n",
    "# _asdict(): OrderedDict 변환\n",
    "print(p1._asdict())\n",
    "print(p4._asdict())"
   ]
  },
  {
   "cell_type": "code",
   "execution_count": 57,
   "metadata": {},
   "outputs": [
    {
     "name": "stdout",
     "output_type": "stream",
     "text": [
      "['1', '2', '3', '4', '5', '6', '7', '8', '9', '10', '11', '12', '13', '14', '15', '16', '17', '18', '19', '20']\n",
      "['A', 'B', 'C', 'D']\n",
      "80\n",
      "[Classes(rank='A', number='1'), Classes(rank='A', number='2'), Classes(rank='A', number='3'), Classes(rank='A', number='4'), Classes(rank='A', number='5'), Classes(rank='A', number='6'), Classes(rank='A', number='7'), Classes(rank='A', number='8'), Classes(rank='A', number='9'), Classes(rank='A', number='10'), Classes(rank='A', number='11'), Classes(rank='A', number='12'), Classes(rank='A', number='13'), Classes(rank='A', number='14'), Classes(rank='A', number='15'), Classes(rank='A', number='16'), Classes(rank='A', number='17'), Classes(rank='A', number='18'), Classes(rank='A', number='19'), Classes(rank='A', number='20'), Classes(rank='B', number='1'), Classes(rank='B', number='2'), Classes(rank='B', number='3'), Classes(rank='B', number='4'), Classes(rank='B', number='5'), Classes(rank='B', number='6'), Classes(rank='B', number='7'), Classes(rank='B', number='8'), Classes(rank='B', number='9'), Classes(rank='B', number='10'), Classes(rank='B', number='11'), Classes(rank='B', number='12'), Classes(rank='B', number='13'), Classes(rank='B', number='14'), Classes(rank='B', number='15'), Classes(rank='B', number='16'), Classes(rank='B', number='17'), Classes(rank='B', number='18'), Classes(rank='B', number='19'), Classes(rank='B', number='20'), Classes(rank='C', number='1'), Classes(rank='C', number='2'), Classes(rank='C', number='3'), Classes(rank='C', number='4'), Classes(rank='C', number='5'), Classes(rank='C', number='6'), Classes(rank='C', number='7'), Classes(rank='C', number='8'), Classes(rank='C', number='9'), Classes(rank='C', number='10'), Classes(rank='C', number='11'), Classes(rank='C', number='12'), Classes(rank='C', number='13'), Classes(rank='C', number='14'), Classes(rank='C', number='15'), Classes(rank='C', number='16'), Classes(rank='C', number='17'), Classes(rank='C', number='18'), Classes(rank='C', number='19'), Classes(rank='C', number='20'), Classes(rank='D', number='1'), Classes(rank='D', number='2'), Classes(rank='D', number='3'), Classes(rank='D', number='4'), Classes(rank='D', number='5'), Classes(rank='D', number='6'), Classes(rank='D', number='7'), Classes(rank='D', number='8'), Classes(rank='D', number='9'), Classes(rank='D', number='10'), Classes(rank='D', number='11'), Classes(rank='D', number='12'), Classes(rank='D', number='13'), Classes(rank='D', number='14'), Classes(rank='D', number='15'), Classes(rank='D', number='16'), Classes(rank='D', number='17'), Classes(rank='D', number='18'), Classes(rank='D', number='19'), Classes(rank='D', number='20')]\n",
      "80\n",
      "[Classes(rank='A', number='1'), Classes(rank='A', number='2'), Classes(rank='A', number='3'), Classes(rank='A', number='4'), Classes(rank='A', number='5'), Classes(rank='A', number='6'), Classes(rank='A', number='7'), Classes(rank='A', number='8'), Classes(rank='A', number='9'), Classes(rank='A', number='10'), Classes(rank='A', number='11'), Classes(rank='A', number='12'), Classes(rank='A', number='13'), Classes(rank='A', number='14'), Classes(rank='A', number='15'), Classes(rank='A', number='16'), Classes(rank='A', number='17'), Classes(rank='A', number='18'), Classes(rank='A', number='19'), Classes(rank='A', number='20'), Classes(rank='B', number='1'), Classes(rank='B', number='2'), Classes(rank='B', number='3'), Classes(rank='B', number='4'), Classes(rank='B', number='5'), Classes(rank='B', number='6'), Classes(rank='B', number='7'), Classes(rank='B', number='8'), Classes(rank='B', number='9'), Classes(rank='B', number='10'), Classes(rank='B', number='11'), Classes(rank='B', number='12'), Classes(rank='B', number='13'), Classes(rank='B', number='14'), Classes(rank='B', number='15'), Classes(rank='B', number='16'), Classes(rank='B', number='17'), Classes(rank='B', number='18'), Classes(rank='B', number='19'), Classes(rank='B', number='20'), Classes(rank='C', number='1'), Classes(rank='C', number='2'), Classes(rank='C', number='3'), Classes(rank='C', number='4'), Classes(rank='C', number='5'), Classes(rank='C', number='6'), Classes(rank='C', number='7'), Classes(rank='C', number='8'), Classes(rank='C', number='9'), Classes(rank='C', number='10'), Classes(rank='C', number='11'), Classes(rank='C', number='12'), Classes(rank='C', number='13'), Classes(rank='C', number='14'), Classes(rank='C', number='15'), Classes(rank='C', number='16'), Classes(rank='C', number='17'), Classes(rank='C', number='18'), Classes(rank='C', number='19'), Classes(rank='C', number='20'), Classes(rank='D', number='1'), Classes(rank='D', number='2'), Classes(rank='D', number='3'), Classes(rank='D', number='4'), Classes(rank='D', number='5'), Classes(rank='D', number='6'), Classes(rank='D', number='7'), Classes(rank='D', number='8'), Classes(rank='D', number='9'), Classes(rank='D', number='10'), Classes(rank='D', number='11'), Classes(rank='D', number='12'), Classes(rank='D', number='13'), Classes(rank='D', number='14'), Classes(rank='D', number='15'), Classes(rank='D', number='16'), Classes(rank='D', number='17'), Classes(rank='D', number='18'), Classes(rank='D', number='19'), Classes(rank='D', number='20')]\n",
      "Classes(rank='A', number='1')\n",
      "Classes(rank='A', number='2')\n",
      "Classes(rank='A', number='3')\n",
      "Classes(rank='A', number='4')\n",
      "Classes(rank='A', number='5')\n",
      "Classes(rank='A', number='6')\n",
      "Classes(rank='A', number='7')\n",
      "Classes(rank='A', number='8')\n",
      "Classes(rank='A', number='9')\n",
      "Classes(rank='A', number='10')\n",
      "Classes(rank='A', number='11')\n",
      "Classes(rank='A', number='12')\n",
      "Classes(rank='A', number='13')\n",
      "Classes(rank='A', number='14')\n",
      "Classes(rank='A', number='15')\n",
      "Classes(rank='A', number='16')\n",
      "Classes(rank='A', number='17')\n",
      "Classes(rank='A', number='18')\n",
      "Classes(rank='A', number='19')\n",
      "Classes(rank='A', number='20')\n",
      "Classes(rank='B', number='1')\n",
      "Classes(rank='B', number='2')\n",
      "Classes(rank='B', number='3')\n",
      "Classes(rank='B', number='4')\n",
      "Classes(rank='B', number='5')\n",
      "Classes(rank='B', number='6')\n",
      "Classes(rank='B', number='7')\n",
      "Classes(rank='B', number='8')\n",
      "Classes(rank='B', number='9')\n",
      "Classes(rank='B', number='10')\n",
      "Classes(rank='B', number='11')\n",
      "Classes(rank='B', number='12')\n",
      "Classes(rank='B', number='13')\n",
      "Classes(rank='B', number='14')\n",
      "Classes(rank='B', number='15')\n",
      "Classes(rank='B', number='16')\n",
      "Classes(rank='B', number='17')\n",
      "Classes(rank='B', number='18')\n",
      "Classes(rank='B', number='19')\n",
      "Classes(rank='B', number='20')\n",
      "Classes(rank='C', number='1')\n",
      "Classes(rank='C', number='2')\n",
      "Classes(rank='C', number='3')\n",
      "Classes(rank='C', number='4')\n",
      "Classes(rank='C', number='5')\n",
      "Classes(rank='C', number='6')\n",
      "Classes(rank='C', number='7')\n",
      "Classes(rank='C', number='8')\n",
      "Classes(rank='C', number='9')\n",
      "Classes(rank='C', number='10')\n",
      "Classes(rank='C', number='11')\n",
      "Classes(rank='C', number='12')\n",
      "Classes(rank='C', number='13')\n",
      "Classes(rank='C', number='14')\n",
      "Classes(rank='C', number='15')\n",
      "Classes(rank='C', number='16')\n",
      "Classes(rank='C', number='17')\n",
      "Classes(rank='C', number='18')\n",
      "Classes(rank='C', number='19')\n",
      "Classes(rank='C', number='20')\n",
      "Classes(rank='D', number='1')\n",
      "Classes(rank='D', number='2')\n",
      "Classes(rank='D', number='3')\n",
      "Classes(rank='D', number='4')\n",
      "Classes(rank='D', number='5')\n",
      "Classes(rank='D', number='6')\n",
      "Classes(rank='D', number='7')\n",
      "Classes(rank='D', number='8')\n",
      "Classes(rank='D', number='9')\n",
      "Classes(rank='D', number='10')\n",
      "Classes(rank='D', number='11')\n",
      "Classes(rank='D', number='12')\n",
      "Classes(rank='D', number='13')\n",
      "Classes(rank='D', number='14')\n",
      "Classes(rank='D', number='15')\n",
      "Classes(rank='D', number='16')\n",
      "Classes(rank='D', number='17')\n",
      "Classes(rank='D', number='18')\n",
      "Classes(rank='D', number='19')\n",
      "Classes(rank='D', number='20')\n"
     ]
    }
   ],
   "source": [
    "# 실 사용 실습\n",
    "# 반 20명, 4개의 반(A, B, C, D)\n",
    "Classes = namedtuple('Classes', ['rank', 'number'])\n",
    "\n",
    "# group list declare\n",
    "numbers = [str(n) for n in range(1, 21)]\n",
    "ranks = 'A B C D'.split()\n",
    "print(numbers)\n",
    "print(ranks)\n",
    "\n",
    "# List Comprehension\n",
    "students = [Classes(rank, number) for rank in ranks for number in numbers]\n",
    "print(len(students))\n",
    "print(students)\n",
    "\n",
    "# recommendation\n",
    "students2 = [Classes(rank, number)\n",
    "                for rank in 'A B C D'.split()\n",
    "                    for number in [str(n) \n",
    "                        for n in range(1, 21)]]\n",
    "print(len(students2))\n",
    "print(students)\n",
    "\n",
    "# print\n",
    "for s in students2:\n",
    "    print(s)"
   ]
  },
  {
   "cell_type": "code",
   "execution_count": null,
   "metadata": {},
   "outputs": [],
   "source": []
  }
 ],
 "metadata": {
  "kernelspec": {
   "display_name": "Python 3",
   "language": "python",
   "name": "python3"
  },
  "language_info": {
   "codemirror_mode": {
    "name": "ipython",
    "version": 3
   },
   "file_extension": ".py",
   "mimetype": "text/x-python",
   "name": "python",
   "nbconvert_exporter": "python",
   "pygments_lexer": "ipython3",
   "version": "3.7.6"
  }
 },
 "nbformat": 4,
 "nbformat_minor": 4
}
