{
 "cells": [
  {
   "cell_type": "code",
   "execution_count": 1,
   "metadata": {},
   "outputs": [],
   "source": [
    "# Chapter07-01\n",
    "# AsyncIO\n",
    "# 비동기 I/O Coroutine 작업\n",
    "# Generator -> 반복적인 객체 Return 사용\n",
    "# Non-blocking 비동기 처리\n",
    "\n",
    "# Blocking I/O: 호출된 함수가 자신의 작업이 완료될 때까지 제어권을 가지고 있음. 타 함수는 대기\n",
    "# NonBlocking I/O: 호출된 함수가(서브루틴) return 후 호출된 함수(메인 루틴)에 제어권 전달 -> 타 함수는 일 지속\n",
    "\n",
    "# 쓰레드 단점: 디버깅, 자원 접근시 레이스컨디션(경쟁 상태), 데드락(Dead Lock) -> 고려 후 코딩\n",
    "# 코루틴 장점: 하나의 루틴만 실행 -> 락 관리 필요x -> 제어권으로 실행\n",
    "# 코루틴 단점: 사용 함수가 비동기로 구현이 되어 있어야 하거나, 또는 직접 비동기로 구현해야 한다."
   ]
  },
  {
   "cell_type": "code",
   "execution_count": 3,
   "metadata": {},
   "outputs": [
    {
     "name": "stdout",
     "output_type": "stream",
     "text": [
      "Collecting nest_asyncio\n",
      "  Downloading nest_asyncio-1.4.0-py3-none-any.whl (5.2 kB)\n",
      "Installing collected packages: nest-asyncio\n",
      "Successfully installed nest-asyncio-1.4.0\n"
     ]
    }
   ],
   "source": [
    "!pip install nest_asyncio\n",
    "\n",
    "import nest_asyncio\n",
    "nest_asyncio.apply()"
   ]
  },
  {
   "cell_type": "code",
   "execution_count": 5,
   "metadata": {},
   "outputs": [
    {
     "name": "stdout",
     "output_type": "stream",
     "text": [
      "Thread Name:  MainThread Start http://daum.net\n",
      "Thread Name:  MainThread Start https://naver.com\n",
      "Thread Name:  MainThread Start http://mlbpark.donga.com\n",
      "Thread Name:  MainThread Start https://tistory.com\n",
      "Thread Name:  MainThread Start https://wemakeprice.com/\n",
      "Thread Name:  MainThread Done http://mlbpark.donga.com\n",
      "Thread Name:  MainThread Done https://naver.com\n",
      "Thread Name:  MainThread Done http://daum.net\n",
      "Thread Name:  MainThread Done https://tistory.com\n",
      "Thread Name:  MainThread Done https://wemakeprice.com/\n",
      "\n",
      "Result:  [b'<!DOC', b'\\n<!do', b'<!DOC', b'\\n\\t<!d', b'\\x1f\\x8b\\x08\\x00\\x00']\n",
      "Total Running Time:  0.2015958069999897\n"
     ]
    }
   ],
   "source": [
    "import asyncio\n",
    "import timeit\n",
    "from urllib.request import urlopen\n",
    "from concurrent.futures import ThreadPoolExecutor\n",
    "import threading\n",
    "\n",
    "# 실행 시작 시간\n",
    "start = timeit.default_timer()\n",
    "\n",
    "# 서비스 방향이 비슷한 사이트로 실습 권장(예: 게시판성 커뮤니티)\n",
    "urls = ['http://daum.net', 'https://naver.com', 'http://mlbpark.donga.com', 'https://tistory.com', 'https://wemakeprice.com/']\n",
    "\n",
    "async def fetch(url, executor):\n",
    "    # 쓰레드명 출력\n",
    "    print('Thread Name: ', threading.current_thread().getName(), 'Start', url)\n",
    "    \n",
    "    # 실행\n",
    "    res = await loop.run_in_executor(executor, urlopen, url)\n",
    "    print('Thread Name: ', threading.current_thread().getName(), 'Done', url)\n",
    "    \n",
    "    # 결과 반환\n",
    "    return res.read()[0:5]\n",
    "\n",
    "async def main():\n",
    "    # 쓰레드 풀 생성\n",
    "    executor = ThreadPoolExecutor(max_workers=10)\n",
    "    \n",
    "    # future 객체 모아서 gather에서 실행\n",
    "    futures = [\n",
    "        asyncio.ensure_future(fetch(url, executor)) for url in urls\n",
    "    ]\n",
    "    \n",
    "    # 결과 취합\n",
    "    rst = await asyncio.gather(*futures)\n",
    "    print()\n",
    "    print('Result: ', rst)\n",
    "    \n",
    "\n",
    "if __name__ == '__main__':\n",
    "    # 루프 초기화\n",
    "    loop = asyncio.get_event_loop()\n",
    "    # 작업 완료까지 대기\n",
    "    loop.run_until_complete(main())\n",
    "    # 수행 시간 계산\n",
    "    duration = timeit.default_timer() - start\n",
    "    # 총 실행 시간\n",
    "    print('Total Running Time: ', duration)"
   ]
  },
  {
   "cell_type": "code",
   "execution_count": 6,
   "metadata": {},
   "outputs": [
    {
     "name": "stdout",
     "output_type": "stream",
     "text": [
      "Thread Name:  MainThread Start http://daum.net\n",
      "Thread Name:  MainThread Start https://naver.com\n",
      "Thread Name:  MainThread Start http://mlbpark.donga.com\n",
      "Thread Name:  MainThread Start https://tistory.com\n",
      "Thread Name:  MainThread Start https://wemakeprice.com/\n",
      "Thread Name:  MainThread Done http://mlbpark.donga.com\n",
      "Thread Name:  MainThread Done https://naver.com\n"
     ]
    },
    {
     "name": "stderr",
     "output_type": "stream",
     "text": [
      "Some characters could not be decoded, and were replaced with REPLACEMENT CHARACTER.\n"
     ]
    },
    {
     "name": "stdout",
     "output_type": "stream",
     "text": [
      "Thread Name:  MainThread Done https://wemakeprice.com/\n",
      "Thread Name:  MainThread Done https://tistory.com\n",
      "Thread Name:  MainThread Done http://daum.net\n",
      "\n",
      "Result:  [<title>Daum</title>, <title>NAVER</title>, <title>↗ 파크에 오면 즐겁다 MLBPARK</title>, <title>TISTORY</title>, None]\n",
      "Total Running Time:  1.0274332369999684\n"
     ]
    }
   ],
   "source": [
    "import asyncio\n",
    "import timeit\n",
    "from urllib.request import urlopen\n",
    "from concurrent.futures import ThreadPoolExecutor\n",
    "from bs4 import BeautifulSoup\n",
    "import threading\n",
    "\n",
    "# 실행 시작 시간\n",
    "start = timeit.default_timer()\n",
    "\n",
    "# 서비스 방향이 비슷한 사이트로 실습 권장(예: 게시판성 커뮤니티)\n",
    "urls = ['http://daum.net', 'https://naver.com', 'http://mlbpark.donga.com', 'https://tistory.com', 'https://wemakeprice.com/']\n",
    "\n",
    "async def fetch(url, executor):\n",
    "    # 쓰레드명 출력\n",
    "    print('Thread Name: ', threading.current_thread().getName(), 'Start', url)\n",
    "    \n",
    "    # 실행\n",
    "    res = await loop.run_in_executor(executor, urlopen, url)\n",
    "    \n",
    "    soup = BeautifulSoup(res.read(), 'html.parser')\n",
    "    # 전체 페이지 소스 확인\n",
    "    # print(soup.prettify())\n",
    "    result_data = soup.title\n",
    "    \n",
    "    print('Thread Name: ', threading.current_thread().getName(), 'Done', url)\n",
    "    \n",
    "    # 결과 반환\n",
    "    return result_data\n",
    "\n",
    "async def main():\n",
    "    # 쓰레드 풀 생성\n",
    "    executor = ThreadPoolExecutor(max_workers=10)\n",
    "    \n",
    "    # future 객체 모아서 gather에서 실행\n",
    "    futures = [\n",
    "        asyncio.ensure_future(fetch(url, executor)) for url in urls\n",
    "    ]\n",
    "    \n",
    "    # 결과 취합\n",
    "    rst = await asyncio.gather(*futures)\n",
    "    print()\n",
    "    print('Result: ', rst)\n",
    "    \n",
    "\n",
    "if __name__ == '__main__':\n",
    "    # 루프 초기화\n",
    "    loop = asyncio.get_event_loop()\n",
    "    # 작업 완료까지 대기\n",
    "    loop.run_until_complete(main())\n",
    "    # 수행 시간 계산\n",
    "    duration = timeit.default_timer() - start\n",
    "    # 총 실행 시간\n",
    "    print('Total Running Time: ', duration)"
   ]
  },
  {
   "cell_type": "code",
   "execution_count": null,
   "metadata": {},
   "outputs": [],
   "source": []
  }
 ],
 "metadata": {
  "kernelspec": {
   "display_name": "Python 3",
   "language": "python",
   "name": "python3"
  },
  "language_info": {
   "codemirror_mode": {
    "name": "ipython",
    "version": 3
   },
   "file_extension": ".py",
   "mimetype": "text/x-python",
   "name": "python",
   "nbconvert_exporter": "python",
   "pygments_lexer": "ipython3",
   "version": "3.7.7"
  }
 },
 "nbformat": 4,
 "nbformat_minor": 4
}
