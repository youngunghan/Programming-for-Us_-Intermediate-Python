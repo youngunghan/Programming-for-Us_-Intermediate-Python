{
 "cells": [
  {
   "cell_type": "code",
   "execution_count": 3,
   "metadata": {},
   "outputs": [
    {
     "name": "stdout",
     "output_type": "stream",
     "text": [
      "[43, 95, 41, 40, 42, 36, 94, 37, 36, 35, 64, 33, 41]\n",
      "[43, 95, 41, 40, 42, 36, 94, 37, 36, 35, 64, 33, 41]\n"
     ]
    }
   ],
   "source": [
    "# Chapter04-01\n",
    "# 시퀀스형\n",
    "# 컨테이너(Container: 서로다른 자료형[list, tuple, collections.deque])\n",
    "# 플랫(Flat: 한 개의 자료형[str, bytes, bytearray, array.array, memoryview])\n",
    "# 가변(list, bytearray, array.array, memoryview, deque)\n",
    "# 불변(tuple, str, bytes)\n",
    "# 리스트 및 튜플 고급\n",
    "\n",
    "# 지능형 리스트(Comprehensing lists)\n",
    "chars = '+_)(*$^%$#@!)'\n",
    "code_list1 = []\n",
    "\n",
    "for s in chars:\n",
    "    # unicode list\n",
    "    code_list1.append(ord(s))\n",
    "    \n",
    "print(code_list1)\n",
    "\n",
    "# Comprehending lists\n",
    "code_list2 = [ord(s) for s in chars]\n",
    "print(code_list2)"
   ]
  },
  {
   "cell_type": "code",
   "execution_count": 9,
   "metadata": {},
   "outputs": [
    {
     "name": "stdout",
     "output_type": "stream",
     "text": [
      "[43, 95, 41, 42, 94, 64, 41]\n",
      "[43, 95, 41, 42, 94, 64, 41]\n"
     ]
    }
   ],
   "source": [
    "# Comprehending lists + Map, Filter\n",
    "code_list3 = [ord(s) for s in chars if ord(s) > 40]\n",
    "print(code_list3)\n",
    "\n",
    "code_list4 = list(filter(lambda x: x > 40, map(ord, chars)))\n",
    "print(code_list4)"
   ]
  },
  {
   "cell_type": "code",
   "execution_count": 10,
   "metadata": {},
   "outputs": [
    {
     "name": "stdout",
     "output_type": "stream",
     "text": [
      "['+', '_', ')', '(', '*', '$', '^', '%', '$', '#', '@', '!', ')']\n",
      "['+', '_', ')', '(', '*', '$', '^', '%', '$', '#', '@', '!', ')']\n",
      "['+', '_', ')', '*', '^', '@', ')']\n",
      "['+', '_', ')', '*', '^', '@', ')']\n"
     ]
    }
   ],
   "source": [
    "# 전체출력\n",
    "print([chr(s) for s in code_list1])\n",
    "print([chr(s) for s in code_list2])\n",
    "print([chr(s) for s in code_list3])\n",
    "print([chr(s) for s in code_list4])"
   ]
  },
  {
   "cell_type": "code",
   "execution_count": 14,
   "metadata": {},
   "outputs": [
    {
     "name": "stdout",
     "output_type": "stream",
     "text": [
      "43\n",
      "[43, 95, 41, 40, 42, 36, 94, 37, 36, 35, 64, 33, 41]\n"
     ]
    }
   ],
   "source": [
    "# Generator 생성\n",
    "import array\n",
    "\n",
    "# Generator: 한 번에 한 개의 항목을 생성(메모리 유지X)\n",
    "tuple_g = (ord(s) for s in chars)\n",
    "array_g = array.array('I', (ord(s) for s in chars))\n",
    "print(next(tuple_g))\n",
    "print(array_g.tolist())"
   ]
  },
  {
   "cell_type": "code",
   "execution_count": 16,
   "metadata": {},
   "outputs": [
    {
     "name": "stdout",
     "output_type": "stream",
     "text": [
      "<generator object <genexpr> at 0x7f93b8f3a6d0>\n",
      "A1\n",
      "A2\n",
      "A3\n",
      "A4\n",
      "A5\n",
      "A6\n",
      "A7\n",
      "A8\n",
      "A9\n",
      "A10\n",
      "A11\n",
      "A12\n",
      "A13\n",
      "A14\n",
      "A15\n",
      "A16\n",
      "A17\n",
      "A18\n",
      "A19\n",
      "A20\n",
      "B1\n",
      "B2\n",
      "B3\n",
      "B4\n",
      "B5\n",
      "B6\n",
      "B7\n",
      "B8\n",
      "B9\n",
      "B10\n",
      "B11\n",
      "B12\n",
      "B13\n",
      "B14\n",
      "B15\n",
      "B16\n",
      "B17\n",
      "B18\n",
      "B19\n",
      "B20\n",
      "C1\n",
      "C2\n",
      "C3\n",
      "C4\n",
      "C5\n",
      "C6\n",
      "C7\n",
      "C8\n",
      "C9\n",
      "C10\n",
      "C11\n",
      "C12\n",
      "C13\n",
      "C14\n",
      "C15\n",
      "C16\n",
      "C17\n",
      "C18\n",
      "C19\n",
      "C20\n",
      "D1\n",
      "D2\n",
      "D3\n",
      "D4\n",
      "D5\n",
      "D6\n",
      "D7\n",
      "D8\n",
      "D9\n",
      "D10\n",
      "D11\n",
      "D12\n",
      "D13\n",
      "D14\n",
      "D15\n",
      "D16\n",
      "D17\n",
      "D18\n",
      "D19\n",
      "D20\n"
     ]
    }
   ],
   "source": [
    "# Generator example\n",
    "print(('%s' % c + str(n) for c in ['A', 'B', 'C', 'D'] for n in range(1, 21)))\n",
    "for s in ('%s' % c + str(n) for c in ['A', 'B', 'C', 'D'] for n in range(1, 21)):\n",
    "    print(s)"
   ]
  },
  {
   "cell_type": "code",
   "execution_count": 23,
   "metadata": {},
   "outputs": [
    {
     "name": "stdout",
     "output_type": "stream",
     "text": [
      "[['~', '~', '~'], ['~', '~', '~'], ['~', '~', '~'], ['~', '~', '~']]\n",
      "[['~', '~', '~'], ['~', '~', '~'], ['~', '~', '~'], ['~', '~', '~']]\n"
     ]
    }
   ],
   "source": [
    "# list 주의\n",
    "marks1 = [['~'] * 3 for _ in range(4)]\n",
    "marks2 = [['~'] * 3] * 4\n",
    "print(marks1)\n",
    "print(marks2)"
   ]
  },
  {
   "cell_type": "code",
   "execution_count": 24,
   "metadata": {},
   "outputs": [
    {
     "name": "stdout",
     "output_type": "stream",
     "text": [
      "[['~', 'X', '~'], ['~', '~', '~'], ['~', '~', '~'], ['~', '~', '~']]\n",
      "[['~', 'X', '~'], ['~', 'X', '~'], ['~', 'X', '~'], ['~', 'X', '~']]\n"
     ]
    }
   ],
   "source": [
    "# 수정\n",
    "marks1[0][1] = 'X'\n",
    "marks2[0][1] = 'X'\n",
    "\n",
    "print(marks1)\n",
    "print(marks2)"
   ]
  },
  {
   "cell_type": "code",
   "execution_count": 25,
   "metadata": {},
   "outputs": [
    {
     "name": "stdout",
     "output_type": "stream",
     "text": [
      "[140272440583584, 140272439959872, 140272439962592, 140272439187248]\n",
      "[140272438951760, 140272438951760, 140272438951760, 140272438951760]\n"
     ]
    }
   ],
   "source": [
    "# 증명\n",
    "print([id(i) for i in marks1])\n",
    "print([id(i) for i in marks2])"
   ]
  },
  {
   "cell_type": "code",
   "execution_count": 34,
   "metadata": {},
   "outputs": [
    {
     "name": "stdout",
     "output_type": "stream",
     "text": [
      "0 1 [2, 3, 4, 5, 6, 7, 8, 9]\n",
      "0 1 []\n",
      "1 2 [3, 4, 5]\n"
     ]
    }
   ],
   "source": [
    "# Chapter04-02\n",
    "x, y, *rest = range(10)\n",
    "print(x, y, rest)\n",
    "x, y, *rest = range(2)\n",
    "print(x, y, rest)\n",
    "x, y, *rest = 1, 2, 3, 4, 5\n",
    "print(x, y, rest)"
   ]
  },
  {
   "cell_type": "code",
   "execution_count": 37,
   "metadata": {},
   "outputs": [
    {
     "name": "stdout",
     "output_type": "stream",
     "text": [
      "(15, 20, 25) 140272439873120\n",
      "[15, 20, 25] 140272438929200\n",
      "(15, 20, 25, 15, 20, 25) 140272439834784\n",
      "[15, 20, 25, 15, 20, 25] 140272440764928\n",
      "(15, 20, 25, 15, 20, 25, 15, 20, 25, 15, 20, 25) 140272439484496\n",
      "[15, 20, 25, 15, 20, 25, 15, 20, 25, 15, 20, 25] 140272440764928\n"
     ]
    }
   ],
   "source": [
    "# Mutable(가변) vs Immutable(불변)\n",
    "l = (15, 20, 25)\n",
    "m = [15, 20, 25]\n",
    "print(l, id(l))\n",
    "print(m, id(m))\n",
    "\n",
    "l = l * 2\n",
    "m = m * 2\n",
    "print(l, id(l))\n",
    "print(m, id(m))\n",
    "\n",
    "l *= 2\n",
    "m *= 2\n",
    "print(l, id(l))\n",
    "print(m, id(m))"
   ]
  },
  {
   "cell_type": "code",
   "execution_count": 45,
   "metadata": {},
   "outputs": [
    {
     "name": "stdout",
     "output_type": "stream",
     "text": [
      "sorted -  ['apple', 'coconut', 'lemon', 'mango', 'orange', 'papaya', 'strawberry']\n",
      "sorted -  ['strawberry', 'papaya', 'orange', 'mango', 'lemon', 'coconut', 'apple']\n",
      "sorted -  ['apple', 'mango', 'lemon', 'orange', 'papaya', 'coconut', 'strawberry']\n",
      "sorted -  ['papaya', 'orange', 'apple', 'lemon', 'mango', 'coconut', 'strawberry']\n",
      "sorted -  ['strawberry', 'coconut', 'mango', 'lemon', 'orange', 'apple', 'papaya']\n",
      "sorted -  ['orange', 'apple', 'mango', 'papaya', 'lemon', 'strawberry', 'coconut']\n",
      "sort -  None ['apple', 'coconut', 'lemon', 'mango', 'orange', 'papaya', 'strawberry']\n",
      "sort -  None ['strawberry', 'papaya', 'orange', 'mango', 'lemon', 'coconut', 'apple']\n",
      "sort -  None ['mango', 'lemon', 'apple', 'papaya', 'orange', 'coconut', 'strawberry']\n",
      "sort -  None ['papaya', 'apple', 'orange', 'lemon', 'mango', 'coconut', 'strawberry']\n",
      "sort -  None ['strawberry', 'coconut', 'mango', 'lemon', 'apple', 'orange', 'papaya']\n"
     ]
    }
   ],
   "source": [
    "# sort vs sorted\n",
    "# reverse, key=len, key=str.lower, key=func...\n",
    "\n",
    "# sorted: 정렬 후 새로운 객체 반환\n",
    "f_list = ['orange', 'apple', 'mango', 'papaya', 'lemon', 'strawberry', 'coconut']\n",
    "print('sorted - ', sorted(f_list))\n",
    "print('sorted - ', sorted(f_list, reverse=True))\n",
    "print('sorted - ', sorted(f_list, key=len))\n",
    "print('sorted - ', sorted(f_list, key=lambda x: x[-1]))\n",
    "print('sorted - ', sorted(f_list, key=lambda x: x[-1], reverse=True))\n",
    "\n",
    "print('sorted - ', f_list)\n",
    "\n",
    "# sort: 정렬 후 객체 직접 변경\n",
    "\n",
    "# 반환 값 확인(None)\n",
    "print('sort - ', f_list.sort(), f_list)\n",
    "print('sort - ', f_list.sort(reverse=True), f_list)\n",
    "print('sort - ', f_list.sort(key=len), f_list)\n",
    "print('sort - ', f_list.sort(key=lambda x: x[-1]), f_list)\n",
    "print('sort - ', f_list.sort(key=lambda x: x[-1], reverse=True), f_list)\n",
    "\n",
    "# List vs Array 적합한 사용법 설명\n",
    "# 리스트 기반: 융통성, 다양한 자료형, 범용적 사용\n",
    "# 숫자 기반: 배열(리스트와 거의 호환)\n"
   ]
  },
  {
   "cell_type": "code",
   "execution_count": 48,
   "metadata": {},
   "outputs": [
    {
     "name": "stdout",
     "output_type": "stream",
     "text": [
      "5737367089334957572\n"
     ]
    }
   ],
   "source": [
    "#Chapter04-03\n",
    "# 해시테이블\n",
    "# key에 value를 저장하는 구조\n",
    "# python dict 해쉬 테이블 예\n",
    "# 키 값의 연산 결과에 따라 직접 접근이 가능한 구조\n",
    "# key 값을 해싱 함수 -> 해쉬 주소 -> key에 대한 value 참조\n",
    "\n",
    "# Dict 구조\n",
    "# print(__builtins__.__dict__)\n",
    "\n",
    "# Hash 값 확인\n",
    "t1 = (10, 20, (30, 40, 50))\n",
    "t2 = (10, 20, [30, 40, 50])\n",
    "\n",
    "print(hash(t1))\n",
    "# print(hash(t2)) # 예외"
   ]
  },
  {
   "cell_type": "code",
   "execution_count": 53,
   "metadata": {},
   "outputs": [
    {
     "name": "stdout",
     "output_type": "stream",
     "text": [
      "{'k1': ['val1', 'val2'], 'k2': ['val3', 'val4', 'val5']}\n",
      "{'k1': ['val1', 'val2'], 'k2': ['val3', 'val4', 'val5']}\n",
      "{'k1': 'val2', 'k2': 'val5'}\n"
     ]
    }
   ],
   "source": [
    "# Dict Setdefault 예제\n",
    "source = (('k1', 'val1'),\n",
    "         ('k1', 'val2'),\n",
    "         ('k2', 'val3'),\n",
    "         ('k2', 'val4'),\n",
    "         ('k2', 'val5'))\n",
    "new_dict1 = {}\n",
    "new_dict2 = {}\n",
    "\n",
    "# No use Setdefault\n",
    "for k, v in source:\n",
    "    if k in new_dict1:\n",
    "        new_dict1[k].append(v)\n",
    "    else:\n",
    "        new_dict1[k] = [v]\n",
    "print(new_dict1)\n",
    "\n",
    "# Use Setdefault\n",
    "for k, v in source:\n",
    "    new_dict2.setdefault(k, []).append(v)\n",
    "print(new_dict2)\n",
    "      \n",
    "# 주의\n",
    "new_dict3 = {k: v for k, v in source}\n",
    "print(new_dict3)"
   ]
  },
  {
   "cell_type": "code",
   "execution_count": 57,
   "metadata": {},
   "outputs": [
    {
     "name": "stdout",
     "output_type": "stream",
     "text": [
      "{'key1': 'value1'} 140272461931056\n",
      "{'key1': 'value1'} 140272469438160\n",
      "{'key1': 'value1', 'key2': 'value2'}\n"
     ]
    }
   ],
   "source": [
    "# Chapter04-04\n",
    "# 시퀀스형\n",
    "# 해시테이블(hashtable) -> 적은 리소르로 많은 데이터를 효율적으로 관리\n",
    "# Dict -> key 중복 허용 X, set -> 중복 허용 X\n",
    "# Dict 및 Set 심화\n",
    "\n",
    "# immutable Dict\n",
    "from types import MappingProxyType\n",
    "d = {'key1': 'value1'}\n",
    "\n",
    "# Read only\n",
    "d_frozen = MappingProxyType(d)\n",
    "\n",
    "print(d, id(d))\n",
    "print(d_frozen, id(d_frozen))\n",
    "\n",
    "# 수정 불가\n",
    "# d_frozen['key2'] = 'value2'\n",
    "\n",
    "# 수정 가능\n",
    "d['key2'] = 'value2'\n",
    "print(d)"
   ]
  },
  {
   "cell_type": "code",
   "execution_count": 61,
   "metadata": {},
   "outputs": [
    {
     "name": "stdout",
     "output_type": "stream",
     "text": [
      "{'Apple', 'Orange', 'Melon', 'kiwi'}\n",
      "{'Apple', 'Orange', 'Melon', 'kiwi'} <class 'set'>\n",
      "{'Apple', 'Orange', 'kiwi'} <class 'set'>\n",
      "{3} <class 'set'>\n",
      "set() <class 'set'>\n",
      "frozenset({'Apple', 'Orange', 'kiwi'}) <class 'frozenset'>\n"
     ]
    }
   ],
   "source": [
    "s1 = {'Apple', 'Orange', 'Apple', 'Orange', 'kiwi'}\n",
    "s2 = set(['Apple', 'Orange', 'Apple', 'Orange', 'kiwi'])\n",
    "s3 = {3}\n",
    "s4 = set() # Not {}\n",
    "s5 = frozenset({'Apple', 'Orange', 'Apple', 'Orange', 'kiwi'})\n",
    "\n",
    "s1.add('Melon')\n",
    "print(s1)\n",
    "\n",
    "# 추가 불가\n",
    "# s5.add('Melon')\n",
    "\n",
    "print(s1, type(s1))\n",
    "print(s2, type(s2))\n",
    "print(s3, type(s3))\n",
    "print(s4, type(s4))\n",
    "print(s5, type(s5))"
   ]
  },
  {
   "cell_type": "code",
   "execution_count": 62,
   "metadata": {},
   "outputs": [
    {
     "name": "stdout",
     "output_type": "stream",
     "text": [
      "----------\n",
      "  1           0 LOAD_CONST               0 (10)\n",
      "              2 BUILD_SET                1\n",
      "              4 RETURN_VALUE\n",
      "None\n",
      "----------\n",
      "  1           0 LOAD_NAME                0 (set)\n",
      "              2 LOAD_CONST               0 (10)\n",
      "              4 BUILD_SET                1\n",
      "              6 CALL_FUNCTION            1\n",
      "              8 RETURN_VALUE\n",
      "None\n"
     ]
    }
   ],
   "source": [
    "# 선언 최적화\n",
    "# 바이트 코드 -> 파이썬 인터프리터 실행\n",
    "from dis import dis\n",
    "\n",
    "print('-'*10)\n",
    "print(dis('{10}'))\n",
    "print('-'*10)\n",
    "print(dis('set({10})'))"
   ]
  },
  {
   "cell_type": "code",
   "execution_count": 63,
   "metadata": {},
   "outputs": [
    {
     "name": "stdout",
     "output_type": "stream",
     "text": [
      "----------\n",
      "{'', 'SUPERSCRIPT TWO', 'DIGIT FIVE', 'LATIN SMALL LETTER X', 'DIAERESIS', 'LATIN SMALL LETTER I WITH CIRCUMFLEX', 'LATIN CAPITAL LETTER Y', 'LATIN CAPITAL LETTER C', 'LATIN CAPITAL LETTER O WITH TILDE', 'LATIN SMALL LETTER I', 'LATIN CAPITAL LETTER R', 'LATIN CAPITAL LETTER T', 'LATIN SMALL LETTER O WITH DIAERESIS', 'LATIN CAPITAL LETTER O WITH STROKE', 'LATIN CAPITAL LETTER B', 'LATIN CAPITAL LETTER J', 'LATIN SMALL LETTER U', 'LATIN CAPITAL LETTER I WITH GRAVE', 'MIDDLE DOT', 'GRAVE ACCENT', 'LATIN SMALL LETTER SHARP S', 'TILDE', 'LEFT CURLY BRACKET', 'LATIN SMALL LETTER I WITH ACUTE', 'LATIN CAPITAL LETTER W', 'LATIN SMALL LETTER Q', 'LESS-THAN SIGN', 'MACRON', 'DIGIT ONE', 'LATIN SMALL LETTER K', 'PLUS SIGN', 'LATIN CAPITAL LETTER G', 'RIGHT-POINTING DOUBLE ANGLE QUOTATION MARK', 'LATIN SMALL LETTER M', 'MICRO SIGN', 'EQUALS SIGN', 'RIGHT SQUARE BRACKET', 'LATIN SMALL LETTER U WITH DIAERESIS', 'LATIN CAPITAL LETTER D', 'LATIN SMALL LETTER N WITH TILDE', 'LATIN CAPITAL LETTER M', 'LATIN CAPITAL LETTER U WITH GRAVE', 'SEMICOLON', 'VULGAR FRACTION ONE QUARTER', 'LATIN CAPITAL LETTER A WITH TILDE', 'LATIN CAPITAL LETTER I WITH ACUTE', 'DEGREE SIGN', 'CEDILLA', 'DIGIT SIX', 'LATIN CAPITAL LETTER A WITH DIAERESIS', 'LATIN SMALL LETTER Y WITH ACUTE', 'DIGIT THREE', 'LATIN CAPITAL LETTER A WITH GRAVE', 'LATIN CAPITAL LETTER THORN', 'COMMERCIAL AT', 'LATIN SMALL LETTER E WITH DIAERESIS', 'LATIN CAPITAL LETTER E WITH GRAVE', 'PERCENT SIGN', 'SOLIDUS', 'LATIN SMALL LETTER O WITH TILDE', 'LATIN CAPITAL LETTER U WITH DIAERESIS', 'DIGIT ZERO', 'LEFT-POINTING DOUBLE ANGLE QUOTATION MARK', 'AMPERSAND', 'LATIN CAPITAL LETTER E WITH CIRCUMFLEX', 'LATIN CAPITAL LETTER A', 'LATIN CAPITAL LETTER H', 'CENT SIGN', 'LATIN SMALL LETTER O WITH CIRCUMFLEX', 'LATIN SMALL LETTER A WITH GRAVE', 'VULGAR FRACTION ONE HALF', 'LATIN CAPITAL LETTER E', 'LATIN CAPITAL LETTER X', 'LATIN SMALL LETTER J', 'LATIN CAPITAL LETTER A WITH ACUTE', 'LATIN CAPITAL LETTER V', 'LATIN SMALL LETTER W', 'NOT SIGN', 'COMMA', 'LATIN CAPITAL LETTER Y WITH ACUTE', 'LATIN SMALL LETTER D', 'LATIN CAPITAL LETTER O WITH ACUTE', 'MULTIPLICATION SIGN', 'NUMBER SIGN', 'LATIN CAPITAL LETTER N WITH TILDE', 'HYPHEN-MINUS', 'LATIN SMALL LETTER V', 'LATIN CAPITAL LETTER K', 'LATIN SMALL LETTER A WITH RING ABOVE', 'LATIN SMALL LETTER A WITH TILDE', 'LATIN SMALL LETTER E WITH CIRCUMFLEX', 'LATIN CAPITAL LETTER AE', 'NO-BREAK SPACE', 'LATIN SMALL LETTER E WITH ACUTE', 'ASTERISK', 'FULL STOP', 'LATIN SMALL LETTER O WITH GRAVE', 'RIGHT CURLY BRACKET', 'LATIN CAPITAL LETTER I', 'LATIN CAPITAL LETTER I WITH CIRCUMFLEX', 'LATIN CAPITAL LETTER O WITH GRAVE', 'LATIN CAPITAL LETTER N', 'PILCROW SIGN', 'EXCLAMATION MARK', 'CURRENCY SIGN', 'INVERTED EXCLAMATION MARK', 'LATIN SMALL LETTER THORN', 'POUND SIGN', 'LATIN SMALL LETTER Z', 'LATIN CAPITAL LETTER Q', 'SUPERSCRIPT THREE', 'LATIN CAPITAL LETTER F', 'LATIN CAPITAL LETTER C WITH CEDILLA', 'SECTION SIGN', 'GREATER-THAN SIGN', 'SOFT HYPHEN', 'VULGAR FRACTION THREE QUARTERS', 'APOSTROPHE', 'LATIN SMALL LETTER F', 'PLUS-MINUS SIGN', 'LATIN SMALL LETTER U WITH GRAVE', 'LATIN SMALL LETTER C', 'DIGIT TWO', 'YEN SIGN', 'LATIN SMALL LETTER Y WITH DIAERESIS', 'LEFT SQUARE BRACKET', 'LATIN CAPITAL LETTER O WITH DIAERESIS', 'LATIN SMALL LETTER A WITH ACUTE', 'MASCULINE ORDINAL INDICATOR', 'LATIN SMALL LETTER O WITH STROKE', 'LEFT PARENTHESIS', 'REVERSE SOLIDUS', 'LATIN CAPITAL LETTER O', 'LATIN CAPITAL LETTER U WITH CIRCUMFLEX', 'LATIN SMALL LETTER E WITH GRAVE', 'COPYRIGHT SIGN', 'DIGIT FOUR', 'LATIN SMALL LETTER R', 'LATIN CAPITAL LETTER E WITH ACUTE', 'SPACE', 'LATIN SMALL LETTER U WITH ACUTE', 'LATIN CAPITAL LETTER U', 'LATIN CAPITAL LETTER I WITH DIAERESIS', 'DIGIT NINE', 'LATIN CAPITAL LETTER S', 'LATIN CAPITAL LETTER P', 'LATIN SMALL LETTER ETH', 'LATIN SMALL LETTER G', 'LATIN CAPITAL LETTER A WITH CIRCUMFLEX', 'LATIN CAPITAL LETTER O WITH CIRCUMFLEX', 'LATIN SMALL LETTER B', 'LATIN SMALL LETTER AE', 'LATIN SMALL LETTER Y', 'QUESTION MARK', 'LATIN SMALL LETTER U WITH CIRCUMFLEX', 'DIVISION SIGN', 'LATIN SMALL LETTER S', 'LATIN SMALL LETTER I WITH GRAVE', 'LATIN CAPITAL LETTER A WITH RING ABOVE', 'LATIN SMALL LETTER A WITH CIRCUMFLEX', 'LATIN CAPITAL LETTER Z', 'DOLLAR SIGN', 'DIGIT SEVEN', 'LOW LINE', 'LATIN SMALL LETTER A', 'LATIN SMALL LETTER E', 'SUPERSCRIPT ONE', 'FEMININE ORDINAL INDICATOR', 'LATIN SMALL LETTER H', 'LATIN SMALL LETTER N', 'CIRCUMFLEX ACCENT', 'LATIN CAPITAL LETTER ETH', 'LATIN SMALL LETTER P', 'LATIN SMALL LETTER O WITH ACUTE', 'LATIN CAPITAL LETTER L', 'VERTICAL LINE', 'LATIN SMALL LETTER I WITH DIAERESIS', 'INVERTED QUESTION MARK', 'QUOTATION MARK', 'LATIN SMALL LETTER C WITH CEDILLA', 'COLON', 'LATIN SMALL LETTER O', 'BROKEN BAR', 'REGISTERED SIGN', 'LATIN CAPITAL LETTER E WITH DIAERESIS', 'DIGIT EIGHT', 'ACUTE ACCENT', 'LATIN SMALL LETTER L', 'RIGHT PARENTHESIS', 'LATIN SMALL LETTER A WITH DIAERESIS', 'LATIN CAPITAL LETTER U WITH ACUTE', 'LATIN SMALL LETTER T'}\n"
     ]
    }
   ],
   "source": [
    "# 지능형 집합(Comprehending Set)\n",
    "print('-'*10)\n",
    "from unicodedata import name\n",
    "print({name(chr(i), '') for i in range(256)})"
   ]
  },
  {
   "cell_type": "code",
   "execution_count": null,
   "metadata": {},
   "outputs": [],
   "source": []
  }
 ],
 "metadata": {
  "kernelspec": {
   "display_name": "Python 3",
   "language": "python",
   "name": "python3"
  },
  "language_info": {
   "codemirror_mode": {
    "name": "ipython",
    "version": 3
   },
   "file_extension": ".py",
   "mimetype": "text/x-python",
   "name": "python",
   "nbconvert_exporter": "python",
   "pygments_lexer": "ipython3",
   "version": "3.7.6"
  }
 },
 "nbformat": 4,
 "nbformat_minor": 4
}
